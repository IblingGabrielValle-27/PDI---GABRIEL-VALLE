{
 "cells": [
  {
   "cell_type": "code",
   "execution_count": 1,
   "metadata": {},
   "outputs": [
    {
     "name": "stdout",
     "output_type": "stream",
     "text": [
      "Ingrese un número entero\n"
     ]
    }
   ],
   "source": [
    "def factorial(n):\n",
    "    if n == 0 or n == 1:\n",
    "        return 1\n",
    "    else:\n",
    "        return n * factorial(n - 1)\n",
    "\n",
    "try:\n",
    "    num = int(input(\"Ingrese un número: \"))\n",
    "    if num < 0:\n",
    "        print(\"El numero es incorrecto\")\n",
    "    else:\n",
    "        print(f\"El factorial de {num} es {factorial(num)}\")\n",
    "except ValueError:\n",
    "    print(\"Ingrese un número entero\")"
   ]
  },
  {
   "cell_type": "code",
   "execution_count": 2,
   "metadata": {},
   "outputs": [
    {
     "name": "stdout",
     "output_type": "stream",
     "text": [
      "El número 3 es primo.\n"
     ]
    }
   ],
   "source": [
    "def primo(n):\n",
    "    if n < 2:\n",
    "        return False\n",
    "    for i in range(2, int(n ** 0.5) + 1):\n",
    "        if n % i == 0:\n",
    "            return False\n",
    "    return True\n",
    "\n",
    "try:\n",
    "    num = int(input(\"Ingrese un número: \"))\n",
    "    if primo(num):\n",
    "        print(f\"El número {num} es primo.\")\n",
    "    else:\n",
    "        print(f\"El número {num} no es primo.\")\n",
    "except ValueError:\n",
    "    print(\"Ingrese un número entero.\")"
   ]
  },
  {
   "cell_type": "code",
   "execution_count": 3,
   "metadata": {},
   "outputs": [
    {
     "name": "stdout",
     "output_type": "stream",
     "text": [
      "El número mayor es: 3\n",
      "El número menor es: 1\n"
     ]
    }
   ],
   "source": [
    "try:\n",
    "    limite = int(input(\"Ingrese un número: \"))\n",
    "    if limite < 3:\n",
    "        print(\"Debe ingresar al menos 3 números.\")\n",
    "    else:\n",
    "        numeros = []\n",
    "        for i in range(limite):\n",
    "            num = int(input(f\"Ingrese el número {i + 1}: \"))\n",
    "            numeros.append(num)\n",
    "        \n",
    "        print(f\"El número mayor es: {max(numeros)}\")\n",
    "        print(f\"El número menor es: {min(numeros)}\")\n",
    "except ValueError:\n",
    "    print(\"Ingrese 3 números como minimo.\")"
   ]
  },
  {
   "cell_type": "code",
   "execution_count": 4,
   "metadata": {},
   "outputs": [
    {
     "name": "stdout",
     "output_type": "stream",
     "text": [
      "El número que más se repite es 2 con 6 veces\n"
     ]
    }
   ],
   "source": [
    "from collections import Counter\n",
    "\n",
    "def numrepetido():\n",
    "    try:\n",
    "        numeros = [int(input(f\"Número {i+1}: \")) for i in range(7)]\n",
    "        frecuencia = Counter(numeros) \n",
    "        max_repetido = max(frecuencia, key=frecuencia.get)\n",
    "        print(f\"El número que más se repite es {max_repetido} con {frecuencia[max_repetido]} veces\")\n",
    "    except ValueError:\n",
    "        print(\"Ingresar solo números enteros.\")\n",
    "\n",
    "numrepetido()"
   ]
  },
  {
   "cell_type": "code",
   "execution_count": 5,
   "metadata": {},
   "outputs": [
    {
     "name": "stdout",
     "output_type": "stream",
     "text": [
      "La palabra es un palíndromo.\n"
     ]
    }
   ],
   "source": [
    "def palindromo(cadena):\n",
    "    cadena_limpia = ''.join(cadena.lower().split())\n",
    "    return cadena_limpia == cadena_limpia[::-1]\n",
    "\n",
    "try:\n",
    "    texto = input(\"Ingrese una palabra: \")\n",
    "    if palindromo(texto):\n",
    "        print(\"La palabra es un palíndromo.\")\n",
    "    else:\n",
    "        print(\"La palabra no es un palíndromo.\")\n",
    "except Exception as e:\n",
    "    print(f\"Existe un error: {e}\")"
   ]
  }
 ],
 "metadata": {
  "kernelspec": {
   "display_name": "entorno_pdi",
   "language": "python",
   "name": "python3"
  },
  "language_info": {
   "codemirror_mode": {
    "name": "ipython",
    "version": 3
   },
   "file_extension": ".py",
   "mimetype": "text/x-python",
   "name": "python",
   "nbconvert_exporter": "python",
   "pygments_lexer": "ipython3",
   "version": "3.10.16"
  }
 },
 "nbformat": 4,
 "nbformat_minor": 2
}
